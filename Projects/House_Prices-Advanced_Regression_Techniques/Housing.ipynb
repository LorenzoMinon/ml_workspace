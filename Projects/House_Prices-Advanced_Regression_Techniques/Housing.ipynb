{
 "cells": [
  {
   "cell_type": "code",
   "execution_count": null,
   "id": "c085a7ab-cafa-4657-8c0d-a8cf75e56cc5",
   "metadata": {},
   "outputs": [],
   "source": [
    "import pandas as pd\n",
    "import numpy as np\n",
    "from scipy import stats\n",
    "from sklearn.metrics import mean_squared_error\n",
    "\n",
    "import matplotlib.pyplot as plt\n",
    "import seaborn as sns\n",
    "\n",
    "from sklearn.model_selection import train_test_split, GridSearchCV, cross_val_score\n",
    "from sklearn.compose import make_column_transformer, ColumnTransformer\n",
    "from sklearn.pipeline import Pipeline, make_pipeline\n",
    "from sklearn.impute import SimpleImputer\n",
    "from sklearn.preprocessing import OrdinalEncoder, StandardScaler, OneHotEncoder\n",
    "\n",
    "from sklearn.linear_model import LinearRegression, Ridge\n",
    "from sklearn.ensemble import RandomForestRegressor, GradientBoostingRegressor, VotingRegressor, StackingRegressor\n",
    "from xgboost import XGBRegressor\n",
    "from catboost import CatBoostRegressor\n",
    "import lightgbm as lgb"
   ]
  },
  {
   "cell_type": "code",
   "execution_count": null,
   "id": "e50ec8ee-f9d9-4978-a0f9-38e15c95bff9",
   "metadata": {},
   "outputs": [],
   "source": [
    "train_df = pd.read_csv('C:\\\\Users\\\\loren\\\\Desktop\\\\ML_Workspace\\\\Projects\\\\House_Prices-Advanced_Regression_Techniques\\\\datasets\\\\train.csv')"
   ]
  },
  {
   "cell_type": "code",
   "execution_count": null,
   "id": "b8a6efda-63e8-49a6-a989-606b73181a13",
   "metadata": {},
   "outputs": [],
   "source": [
    "test_df = pd.read_csv('C:\\\\Users\\\\loren\\\\Desktop\\\\ML_Workspace\\\\Projects\\\\House_Prices-Advanced_Regression_Techniques\\\\datasets\\\\test.csv')"
   ]
  },
  {
   "cell_type": "code",
   "execution_count": null,
   "id": "b89e40c2-06a6-4f3f-995f-98bddc018f09",
   "metadata": {},
   "outputs": [],
   "source": [
    "train_df"
   ]
  },
  {
   "cell_type": "code",
   "execution_count": null,
   "id": "ae09d09d-c9d7-4a51-810e-67eba137e125",
   "metadata": {},
   "outputs": [],
   "source": [
    "test_df"
   ]
  },
  {
   "cell_type": "code",
   "execution_count": null,
   "id": "5e6308f4-9304-4666-b244-8d749c8da2b4",
   "metadata": {},
   "outputs": [],
   "source": [
    "train_df.columns"
   ]
  },
  {
   "cell_type": "code",
   "execution_count": null,
   "id": "b90baab3-1de9-45ce-ad93-ec84fba41e18",
   "metadata": {},
   "outputs": [],
   "source": [
    "train_df.describe"
   ]
  },
  {
   "cell_type": "code",
   "execution_count": null,
   "id": "36b6a39f-a12c-4e6c-901f-1eff1740347f",
   "metadata": {},
   "outputs": [],
   "source": [
    "train_df.describe()"
   ]
  },
  {
   "cell_type": "code",
   "execution_count": null,
   "id": "75b0b6a4-695a-4f58-9dd9-3c678edab7fb",
   "metadata": {},
   "outputs": [],
   "source": [
    "train_df.dtypes[train_df.dtypes != 'object']"
   ]
  },
  {
   "cell_type": "code",
   "execution_count": null,
   "id": "61ecdc70-379f-4854-9f81-7efe669c4e3c",
   "metadata": {},
   "outputs": [],
   "source": [
    "plt.scatter(x='MSSubClass',y='SalePrice', data = train_df)"
   ]
  },
  {
   "cell_type": "code",
   "execution_count": null,
   "id": "cd4cbc52-f02d-4453-9481-e866790d26d7",
   "metadata": {},
   "outputs": [],
   "source": [
    "plt.scatter(x='LotFrontage',y='SalePrice', data = train_df)"
   ]
  },
  {
   "cell_type": "code",
   "execution_count": null,
   "id": "cf020769-2a41-40d7-a870-a4eb0ca1700c",
   "metadata": {},
   "outputs": [],
   "source": [
    "train_df.query('LotFrontage > 300')\n",
    "#Drop 935, 1299"
   ]
  },
  {
   "cell_type": "code",
   "execution_count": null,
   "id": "1bcec825-0b01-4efc-bc0f-cf6d4975e1e3",
   "metadata": {},
   "outputs": [],
   "source": [
    "plt.scatter(x='LotArea',y='SalePrice', data = train_df)"
   ]
  },
  {
   "cell_type": "code",
   "execution_count": null,
   "id": "54b51591-0004-4eb0-a748-272b8f799bf5",
   "metadata": {},
   "outputs": [],
   "source": [
    "train_df.query('LotArea > 55000')\n",
    "# 250, 314, 336,,707,"
   ]
  },
  {
   "cell_type": "code",
   "execution_count": null,
   "id": "a4ecc91b-d9e4-46a5-a729-9f9b1460ab1b",
   "metadata": {},
   "outputs": [],
   "source": [
    "stats.zscore(train_df['LotArea']).sort_values().tail(10)"
   ]
  },
  {
   "cell_type": "code",
   "execution_count": null,
   "id": "b0ec197f-2c97-4485-a488-31e1bcb9873b",
   "metadata": {},
   "outputs": [],
   "source": [
    "plt.scatter(x='OverallQual', y='SalePrice', data =train_df\n",
    "           )"
   ]
  },
  {
   "cell_type": "code",
   "execution_count": null,
   "id": "d47f318d-c96a-42c9-a4a9-142261f6fd43",
   "metadata": {},
   "outputs": [],
   "source": [
    "train_df.query('OverallQual ==10') # maybe 524"
   ]
  },
  {
   "cell_type": "code",
   "execution_count": null,
   "id": "47d6ea5a-bf2b-4c69-ba34-d79478f0b95c",
   "metadata": {},
   "outputs": [],
   "source": [
    "plt.scatter(x='OverallCond', y = 'SalePrice', data = train_df)"
   ]
  },
  {
   "cell_type": "raw",
   "id": "2fb850c6-81b6-4f8d-9a08-807eb52a0eae",
   "metadata": {},
   "source": []
  },
  {
   "cell_type": "code",
   "execution_count": null,
   "id": "6431068f-b804-498b-8284-407ff25494ca",
   "metadata": {},
   "outputs": [],
   "source": [
    "train_df.query('OverallCond ==2') #379"
   ]
  },
  {
   "cell_type": "code",
   "execution_count": null,
   "id": "92f5643b-22f0-4622-8864-c763b2e355d4",
   "metadata": {},
   "outputs": [],
   "source": [
    "train_df.query('OverallCond ==5 & SalePrice>700000')\n",
    "# 1183"
   ]
  },
  {
   "cell_type": "code",
   "execution_count": null,
   "id": "58689bc7-4faf-40ae-a978-45eae013c02c",
   "metadata": {},
   "outputs": [],
   "source": [
    "train_df.query('OverallCond ==6 & SalePrice>700000')\n",
    "#693\n"
   ]
  },
  {
   "cell_type": "code",
   "execution_count": null,
   "id": "1cf1295b-2ccf-467e-8658-b77459132e69",
   "metadata": {},
   "outputs": [],
   "source": [
    "plt.scatter(x='YearBuilt', y = 'SalePrice', data = train_df)"
   ]
  },
  {
   "cell_type": "code",
   "execution_count": 24,
   "id": "8680976b-4502-4495-a301-1db83c48e850",
   "metadata": {},
   "outputs": [
    {
     "data": {
      "text/html": [
       "<div>\n",
       "<style scoped>\n",
       "    .dataframe tbody tr th:only-of-type {\n",
       "        vertical-align: middle;\n",
       "    }\n",
       "\n",
       "    .dataframe tbody tr th {\n",
       "        vertical-align: top;\n",
       "    }\n",
       "\n",
       "    .dataframe thead th {\n",
       "        text-align: right;\n",
       "    }\n",
       "</style>\n",
       "<table border=\"1\" class=\"dataframe\">\n",
       "  <thead>\n",
       "    <tr style=\"text-align: right;\">\n",
       "      <th></th>\n",
       "      <th>Id</th>\n",
       "      <th>MSSubClass</th>\n",
       "      <th>MSZoning</th>\n",
       "      <th>LotFrontage</th>\n",
       "      <th>LotArea</th>\n",
       "      <th>Street</th>\n",
       "      <th>Alley</th>\n",
       "      <th>LotShape</th>\n",
       "      <th>LandContour</th>\n",
       "      <th>Utilities</th>\n",
       "      <th>...</th>\n",
       "      <th>PoolArea</th>\n",
       "      <th>PoolQC</th>\n",
       "      <th>Fence</th>\n",
       "      <th>MiscFeature</th>\n",
       "      <th>MiscVal</th>\n",
       "      <th>MoSold</th>\n",
       "      <th>YrSold</th>\n",
       "      <th>SaleType</th>\n",
       "      <th>SaleCondition</th>\n",
       "      <th>SalePrice</th>\n",
       "    </tr>\n",
       "  </thead>\n",
       "  <tbody>\n",
       "    <tr>\n",
       "      <th>185</th>\n",
       "      <td>186</td>\n",
       "      <td>75</td>\n",
       "      <td>RM</td>\n",
       "      <td>90.0</td>\n",
       "      <td>22950</td>\n",
       "      <td>Pave</td>\n",
       "      <td>NaN</td>\n",
       "      <td>IR2</td>\n",
       "      <td>Lvl</td>\n",
       "      <td>AllPub</td>\n",
       "      <td>...</td>\n",
       "      <td>0</td>\n",
       "      <td>NaN</td>\n",
       "      <td>GdPrv</td>\n",
       "      <td>NaN</td>\n",
       "      <td>0</td>\n",
       "      <td>6</td>\n",
       "      <td>2006</td>\n",
       "      <td>WD</td>\n",
       "      <td>Normal</td>\n",
       "      <td>475000</td>\n",
       "    </tr>\n",
       "  </tbody>\n",
       "</table>\n",
       "<p>1 rows × 81 columns</p>\n",
       "</div>"
      ],
      "text/plain": [
       "      Id  MSSubClass MSZoning  LotFrontage  LotArea Street Alley LotShape  \\\n",
       "185  186          75       RM         90.0    22950   Pave   NaN      IR2   \n",
       "\n",
       "    LandContour Utilities  ... PoolArea PoolQC  Fence MiscFeature MiscVal  \\\n",
       "185         Lvl    AllPub  ...        0    NaN  GdPrv         NaN       0   \n",
       "\n",
       "    MoSold YrSold  SaleType  SaleCondition  SalePrice  \n",
       "185      6   2006        WD         Normal     475000  \n",
       "\n",
       "[1 rows x 81 columns]"
      ]
     },
     "execution_count": 24,
     "metadata": {},
     "output_type": "execute_result"
    }
   ],
   "source": [
    "train_df.query('YearBuilt < 1900 & SalePrice > 400000') # 186"
   ]
  },
  {
   "cell_type": "code",
   "execution_count": 26,
   "id": "1c048028-932c-41e7-b384-59b17e0b6bf6",
   "metadata": {},
   "outputs": [
    {
     "data": {
      "text/html": [
       "<div>\n",
       "<style scoped>\n",
       "    .dataframe tbody tr th:only-of-type {\n",
       "        vertical-align: middle;\n",
       "    }\n",
       "\n",
       "    .dataframe tbody tr th {\n",
       "        vertical-align: top;\n",
       "    }\n",
       "\n",
       "    .dataframe thead th {\n",
       "        text-align: right;\n",
       "    }\n",
       "</style>\n",
       "<table border=\"1\" class=\"dataframe\">\n",
       "  <thead>\n",
       "    <tr style=\"text-align: right;\">\n",
       "      <th></th>\n",
       "      <th>Id</th>\n",
       "      <th>MSSubClass</th>\n",
       "      <th>MSZoning</th>\n",
       "      <th>LotFrontage</th>\n",
       "      <th>LotArea</th>\n",
       "      <th>Street</th>\n",
       "      <th>Alley</th>\n",
       "      <th>LotShape</th>\n",
       "      <th>LandContour</th>\n",
       "      <th>Utilities</th>\n",
       "      <th>...</th>\n",
       "      <th>PoolArea</th>\n",
       "      <th>PoolQC</th>\n",
       "      <th>Fence</th>\n",
       "      <th>MiscFeature</th>\n",
       "      <th>MiscVal</th>\n",
       "      <th>MoSold</th>\n",
       "      <th>YrSold</th>\n",
       "      <th>SaleType</th>\n",
       "      <th>SaleCondition</th>\n",
       "      <th>SalePrice</th>\n",
       "    </tr>\n",
       "  </thead>\n",
       "  <tbody>\n",
       "    <tr>\n",
       "      <th>313</th>\n",
       "      <td>314</td>\n",
       "      <td>20</td>\n",
       "      <td>RL</td>\n",
       "      <td>150.0</td>\n",
       "      <td>215245</td>\n",
       "      <td>Pave</td>\n",
       "      <td>NaN</td>\n",
       "      <td>IR3</td>\n",
       "      <td>Low</td>\n",
       "      <td>AllPub</td>\n",
       "      <td>...</td>\n",
       "      <td>0</td>\n",
       "      <td>NaN</td>\n",
       "      <td>NaN</td>\n",
       "      <td>NaN</td>\n",
       "      <td>0</td>\n",
       "      <td>6</td>\n",
       "      <td>2009</td>\n",
       "      <td>WD</td>\n",
       "      <td>Normal</td>\n",
       "      <td>375000</td>\n",
       "    </tr>\n",
       "  </tbody>\n",
       "</table>\n",
       "<p>1 rows × 81 columns</p>\n",
       "</div>"
      ],
      "text/plain": [
       "      Id  MSSubClass MSZoning  LotFrontage  LotArea Street Alley LotShape  \\\n",
       "313  314          20       RL        150.0   215245   Pave   NaN      IR3   \n",
       "\n",
       "    LandContour Utilities  ... PoolArea PoolQC Fence MiscFeature MiscVal  \\\n",
       "313         Low    AllPub  ...        0    NaN   NaN         NaN       0   \n",
       "\n",
       "    MoSold YrSold  SaleType  SaleCondition  SalePrice  \n",
       "313      6   2009        WD         Normal     375000  \n",
       "\n",
       "[1 rows x 81 columns]"
      ]
     },
     "execution_count": 26,
     "metadata": {},
     "output_type": "execute_result"
    }
   ],
   "source": [
    "train_df.query('YearRemodAdd < 1970 & SalePrice > 300000')\n",
    "Id                 int64\n",
    "MSSubClass         int64\n",
    "LotFrontage      float64\n",
    "LotArea            int64\n",
    "OverallQual        int64\n",
    "OverallCond        int64\n",
    "YearBuilt          int64\n",
    "YearRemodAdd       int64\n",
    "MasVnrArea       float64\n",
    "BsmtFinSF1         int64\n",
    "BsmtFinSF2         int64\n",
    "BsmtUnfSF          int64\n",
    "TotalBsmtSF        int64\n",
    "1stFlrSF           int64\n",
    "2ndFlrSF           int64\n",
    "LowQualFinSF       int64\n",
    "GrLivArea          int64\n",
    "BsmtFullBath       int64\n",
    "BsmtHalfBath       int64\n",
    "FullBath           int64\n",
    "HalfBath           int64\n",
    "BedroomAbvGr       int64\n",
    "KitchenAbvGr       int64\n",
    "TotRmsAbvGrd       int64\n",
    "Fireplaces         int64\n",
    "GarageYrBlt      float64\n",
    "GarageCars         int64\n",
    "GarageArea         int64\n",
    "WoodDeckSF         int64\n",
    "OpenPorchSF        int64\n",
    "EnclosedPorch      int64\n",
    "3SsnPorch          int64\n",
    "ScreenPorch        int64\n",
    "PoolArea           int64\n",
    "MiscVal            int64\n",
    "MoSold             int64\n",
    "YrSold             int64\n",
    "SalePrice          int64"
   ]
  },
  {
   "cell_type": "code",
   "execution_count": 31,
   "id": "7754bfa8-f9ec-434a-927e-0f3d68198a40",
   "metadata": {},
   "outputs": [
    {
     "data": {
      "text/html": [
       "<div>\n",
       "<style scoped>\n",
       "    .dataframe tbody tr th:only-of-type {\n",
       "        vertical-align: middle;\n",
       "    }\n",
       "\n",
       "    .dataframe tbody tr th {\n",
       "        vertical-align: top;\n",
       "    }\n",
       "\n",
       "    .dataframe thead th {\n",
       "        text-align: right;\n",
       "    }\n",
       "</style>\n",
       "<table border=\"1\" class=\"dataframe\">\n",
       "  <thead>\n",
       "    <tr style=\"text-align: right;\">\n",
       "      <th></th>\n",
       "      <th>Id</th>\n",
       "      <th>MSSubClass</th>\n",
       "      <th>MSZoning</th>\n",
       "      <th>LotFrontage</th>\n",
       "      <th>LotArea</th>\n",
       "      <th>Street</th>\n",
       "      <th>Alley</th>\n",
       "      <th>LotShape</th>\n",
       "      <th>LandContour</th>\n",
       "      <th>Utilities</th>\n",
       "      <th>...</th>\n",
       "      <th>PoolArea</th>\n",
       "      <th>PoolQC</th>\n",
       "      <th>Fence</th>\n",
       "      <th>MiscFeature</th>\n",
       "      <th>MiscVal</th>\n",
       "      <th>MoSold</th>\n",
       "      <th>YrSold</th>\n",
       "      <th>SaleType</th>\n",
       "      <th>SaleCondition</th>\n",
       "      <th>SalePrice</th>\n",
       "    </tr>\n",
       "  </thead>\n",
       "  <tbody>\n",
       "    <tr>\n",
       "      <th>297</th>\n",
       "      <td>298</td>\n",
       "      <td>60</td>\n",
       "      <td>FV</td>\n",
       "      <td>66.0</td>\n",
       "      <td>7399</td>\n",
       "      <td>Pave</td>\n",
       "      <td>Pave</td>\n",
       "      <td>IR1</td>\n",
       "      <td>Lvl</td>\n",
       "      <td>AllPub</td>\n",
       "      <td>...</td>\n",
       "      <td>0</td>\n",
       "      <td>NaN</td>\n",
       "      <td>NaN</td>\n",
       "      <td>NaN</td>\n",
       "      <td>0</td>\n",
       "      <td>6</td>\n",
       "      <td>2007</td>\n",
       "      <td>WD</td>\n",
       "      <td>Normal</td>\n",
       "      <td>239000</td>\n",
       "    </tr>\n",
       "  </tbody>\n",
       "</table>\n",
       "<p>1 rows × 81 columns</p>\n",
       "</div>"
      ],
      "text/plain": [
       "      Id  MSSubClass MSZoning  LotFrontage  LotArea Street Alley LotShape  \\\n",
       "297  298          60       FV         66.0     7399   Pave  Pave      IR1   \n",
       "\n",
       "    LandContour Utilities  ... PoolArea PoolQC Fence MiscFeature MiscVal  \\\n",
       "297         Lvl    AllPub  ...        0    NaN   NaN         NaN       0   \n",
       "\n",
       "    MoSold YrSold  SaleType  SaleCondition  SalePrice  \n",
       "297      6   2007        WD         Normal     239000  \n",
       "\n",
       "[1 rows x 81 columns]"
      ]
     },
     "execution_count": 31,
     "metadata": {},
     "output_type": "execute_result"
    },
    {
     "data": {
      "image/png": "[encoded data removed]",
      "text/plain": [
       "<Figure size 640x480 with 1 Axes>"
      ]
     },
     "metadata": {},
     "output_type": "display_data"
    }
   ],
   "source": [
    "plt.scatter(x='MasVnrArea', y = 'SalePrice', data = train_df)\n",
    "train_df.query('MasVnrArea > 1500')\n"
   ]
  },
  {
   "cell_type": "code",
   "execution_count": 33,
   "id": "9ab6fa81-2dfe-4d20-923c-93d1346191cb",
   "metadata": {},
   "outputs": [
    {
     "data": {
      "text/plain": [
       "<matplotlib.collections.PathCollection at 0x228f1787f10>"
      ]
     },
     "execution_count": 33,
     "metadata": {},
     "output_type": "execute_result"
    },
    {
     "data": {
      "image/png": "[encoded data removed]",
      "text/plain": [
       "<Figure size 640x480 with 1 Axes>"
      ]
     },
     "metadata": {},
     "output_type": "display_data"
    }
   ],
   "source": [
    "plt.scatter(x='BsmtFinSF1', y = 'SalePrice', data = train_df)\n"
   ]
  },
  {
   "cell_type": "code",
   "execution_count": 35,
   "id": "e2c0b7a9-1f32-4bcf-8026-df6119f8feb5",
   "metadata": {},
   "outputs": [
    {
     "data": {
      "text/html": [
       "<div>\n",
       "<style scoped>\n",
       "    .dataframe tbody tr th:only-of-type {\n",
       "        vertical-align: middle;\n",
       "    }\n",
       "\n",
       "    .dataframe tbody tr th {\n",
       "        vertical-align: top;\n",
       "    }\n",
       "\n",
       "    .dataframe thead th {\n",
       "        text-align: right;\n",
       "    }\n",
       "</style>\n",
       "<table border=\"1\" class=\"dataframe\">\n",
       "  <thead>\n",
       "    <tr style=\"text-align: right;\">\n",
       "      <th></th>\n",
       "      <th>Id</th>\n",
       "      <th>MSSubClass</th>\n",
       "      <th>MSZoning</th>\n",
       "      <th>LotFrontage</th>\n",
       "      <th>LotArea</th>\n",
       "      <th>Street</th>\n",
       "      <th>Alley</th>\n",
       "      <th>LotShape</th>\n",
       "      <th>LandContour</th>\n",
       "      <th>Utilities</th>\n",
       "      <th>...</th>\n",
       "      <th>PoolArea</th>\n",
       "      <th>PoolQC</th>\n",
       "      <th>Fence</th>\n",
       "      <th>MiscFeature</th>\n",
       "      <th>MiscVal</th>\n",
       "      <th>MoSold</th>\n",
       "      <th>YrSold</th>\n",
       "      <th>SaleType</th>\n",
       "      <th>SaleCondition</th>\n",
       "      <th>SalePrice</th>\n",
       "    </tr>\n",
       "  </thead>\n",
       "  <tbody>\n",
       "    <tr>\n",
       "      <th>1298</th>\n",
       "      <td>1299</td>\n",
       "      <td>60</td>\n",
       "      <td>RL</td>\n",
       "      <td>313.0</td>\n",
       "      <td>63887</td>\n",
       "      <td>Pave</td>\n",
       "      <td>NaN</td>\n",
       "      <td>IR3</td>\n",
       "      <td>Bnk</td>\n",
       "      <td>AllPub</td>\n",
       "      <td>...</td>\n",
       "      <td>480</td>\n",
       "      <td>Gd</td>\n",
       "      <td>NaN</td>\n",
       "      <td>NaN</td>\n",
       "      <td>0</td>\n",
       "      <td>1</td>\n",
       "      <td>2008</td>\n",
       "      <td>New</td>\n",
       "      <td>Partial</td>\n",
       "      <td>160000</td>\n",
       "    </tr>\n",
       "  </tbody>\n",
       "</table>\n",
       "<p>1 rows × 81 columns</p>\n",
       "</div>"
      ],
      "text/plain": [
       "        Id  MSSubClass MSZoning  LotFrontage  LotArea Street Alley LotShape  \\\n",
       "1298  1299          60       RL        313.0    63887   Pave   NaN      IR3   \n",
       "\n",
       "     LandContour Utilities  ... PoolArea PoolQC Fence MiscFeature MiscVal  \\\n",
       "1298         Bnk    AllPub  ...      480     Gd   NaN         NaN       0   \n",
       "\n",
       "     MoSold YrSold  SaleType  SaleCondition  SalePrice  \n",
       "1298      1   2008       New        Partial     160000  \n",
       "\n",
       "[1 rows x 81 columns]"
      ]
     },
     "execution_count": 35,
     "metadata": {},
     "output_type": "execute_result"
    }
   ],
   "source": [
    "train_df.query('BsmtFinSF1 > 5000')\n"
   ]
  },
  {
   "cell_type": "code",
   "execution_count": 38,
   "id": "90b85118-3259-491b-a987-7aef9fd64ed3",
   "metadata": {},
   "outputs": [],
   "source": [
    "values = [598,955,935,1299,250,314,336,707,379,1183,692,186,441,186,524,739,955,1062,1191,494]"
   ]
  },
  {
   "cell_type": "code",
   "execution_count": 39,
   "id": "c738cecd-307b-492b-b007-92d08619f463",
   "metadata": {},
   "outputs": [],
   "source": [
    "train_df = train_df[train_df.Id.isin(values) == False]"
   ]
  },
  {
   "cell_type": "code",
   "execution_count": 40,
   "id": "63fc0359-8230-43bb-b710-d06cc70cb94b",
   "metadata": {},
   "outputs": [
    {
     "data": {
      "text/html": [
       "<div>\n",
       "<style scoped>\n",
       "    .dataframe tbody tr th:only-of-type {\n",
       "        vertical-align: middle;\n",
       "    }\n",
       "\n",
       "    .dataframe tbody tr th {\n",
       "        vertical-align: top;\n",
       "    }\n",
       "\n",
       "    .dataframe thead th {\n",
       "        text-align: right;\n",
       "    }\n",
       "</style>\n",
       "<table border=\"1\" class=\"dataframe\">\n",
       "  <thead>\n",
       "    <tr style=\"text-align: right;\">\n",
       "      <th></th>\n",
       "      <th>0</th>\n",
       "    </tr>\n",
       "  </thead>\n",
       "  <tbody>\n",
       "    <tr>\n",
       "      <th>PoolQC</th>\n",
       "      <td>1437</td>\n",
       "    </tr>\n",
       "    <tr>\n",
       "      <th>MiscFeature</th>\n",
       "      <td>1391</td>\n",
       "    </tr>\n",
       "    <tr>\n",
       "      <th>Alley</th>\n",
       "      <td>1351</td>\n",
       "    </tr>\n",
       "    <tr>\n",
       "      <th>Fence</th>\n",
       "      <td>1163</td>\n",
       "    </tr>\n",
       "    <tr>\n",
       "      <th>MasVnrType</th>\n",
       "      <td>864</td>\n",
       "    </tr>\n",
       "    <tr>\n",
       "      <th>FireplaceQu</th>\n",
       "      <td>687</td>\n",
       "    </tr>\n",
       "    <tr>\n",
       "      <th>LotFrontage</th>\n",
       "      <td>255</td>\n",
       "    </tr>\n",
       "    <tr>\n",
       "      <th>GarageYrBlt</th>\n",
       "      <td>79</td>\n",
       "    </tr>\n",
       "    <tr>\n",
       "      <th>GarageCond</th>\n",
       "      <td>79</td>\n",
       "    </tr>\n",
       "    <tr>\n",
       "      <th>GarageType</th>\n",
       "      <td>79</td>\n",
       "    </tr>\n",
       "    <tr>\n",
       "      <th>GarageFinish</th>\n",
       "      <td>79</td>\n",
       "    </tr>\n",
       "    <tr>\n",
       "      <th>GarageQual</th>\n",
       "      <td>79</td>\n",
       "    </tr>\n",
       "    <tr>\n",
       "      <th>BsmtFinType2</th>\n",
       "      <td>38</td>\n",
       "    </tr>\n",
       "    <tr>\n",
       "      <th>BsmtExposure</th>\n",
       "      <td>38</td>\n",
       "    </tr>\n",
       "    <tr>\n",
       "      <th>BsmtQual</th>\n",
       "      <td>37</td>\n",
       "    </tr>\n",
       "    <tr>\n",
       "      <th>BsmtCond</th>\n",
       "      <td>37</td>\n",
       "    </tr>\n",
       "    <tr>\n",
       "      <th>BsmtFinType1</th>\n",
       "      <td>37</td>\n",
       "    </tr>\n",
       "    <tr>\n",
       "      <th>MasVnrArea</th>\n",
       "      <td>8</td>\n",
       "    </tr>\n",
       "    <tr>\n",
       "      <th>Electrical</th>\n",
       "      <td>1</td>\n",
       "    </tr>\n",
       "    <tr>\n",
       "      <th>Id</th>\n",
       "      <td>0</td>\n",
       "    </tr>\n",
       "  </tbody>\n",
       "</table>\n",
       "</div>"
      ],
      "text/plain": [
       "                 0\n",
       "PoolQC        1437\n",
       "MiscFeature   1391\n",
       "Alley         1351\n",
       "Fence         1163\n",
       "MasVnrType     864\n",
       "FireplaceQu    687\n",
       "LotFrontage    255\n",
       "GarageYrBlt     79\n",
       "GarageCond      79\n",
       "GarageType      79\n",
       "GarageFinish    79\n",
       "GarageQual      79\n",
       "BsmtFinType2    38\n",
       "BsmtExposure    38\n",
       "BsmtQual        37\n",
       "BsmtCond        37\n",
       "BsmtFinType1    37\n",
       "MasVnrArea       8\n",
       "Electrical       1\n",
       "Id               0"
      ]
     },
     "execution_count": 40,
     "metadata": {},
     "output_type": "execute_result"
    }
   ],
   "source": [
    "pd.DataFrame(train_df.isnull().sum().sort_values(ascending=False)).head(20)"
   ]
  },
  {
   "cell_type": "code",
   "execution_count": null,
   "id": "54c5fc13-5a49-4542-ab56-fdd0ee038caf",
   "metadata": {},
   "outputs": [],
   "source": []
  }
 ],
 "metadata": {
  "kernelspec": {
   "display_name": "Python 3 (ipykernel)",
   "language": "python",
   "name": "python3"
  },
  "language_info": {
   "codemirror_mode": {
    "name": "ipython",
    "version": 3
   },
   "file_extension": ".py",
   "mimetype": "text/x-python",
   "name": "python",
   "nbconvert_exporter": "python",
   "pygments_lexer": "ipython3",
   "version": "3.11.0"
  }
 },
 "nbformat": 4,
 "nbformat_minor": 5
}
