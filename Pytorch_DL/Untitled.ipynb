{
 "cells": [
  {
   "cell_type": "code",
   "execution_count": 1,
   "id": "72b423fd-5635-4d62-8840-cd4b72cd9630",
   "metadata": {},
   "outputs": [],
   "source": [
    "import torch"
   ]
  },
  {
   "cell_type": "code",
   "execution_count": 2,
   "id": "5149034c-20d2-4f35-8a02-30942dad7ab3",
   "metadata": {},
   "outputs": [],
   "source": [
    "import numpy as np"
   ]
  },
  {
   "cell_type": "code",
   "execution_count": 3,
   "id": "fff67ed0-5a93-47da-acf1-85d1b6825d4d",
   "metadata": {},
   "outputs": [
    {
     "name": "stdout",
     "output_type": "stream",
     "text": [
      "Probando Tensores:  tensor([1, 2, 3])\n"
     ]
    }
   ],
   "source": [
    "tensor_1 = torch.tensor([1,2,3])\n",
    "print(\"Probando Tensores: \", tensor_1)"
   ]
  },
  {
   "cell_type": "code",
   "execution_count": 4,
   "id": "54f9c0e4-2d18-497a-9e61-d3211d1453a3",
   "metadata": {},
   "outputs": [],
   "source": [
    "array_1 = np.array([1,2,3])"
   ]
  },
  {
   "cell_type": "code",
   "execution_count": 5,
   "id": "0de1d6c7-956f-485d-846e-7924aa32827a",
   "metadata": {},
   "outputs": [],
   "source": [
    "tensor_from_numpy = torch.tensor(array_1)"
   ]
  },
  {
   "cell_type": "code",
   "execution_count": 6,
   "id": "9dd306c1-a33d-411a-84a2-3d04619b4fe1",
   "metadata": {},
   "outputs": [
    {
     "name": "stdout",
     "output_type": "stream",
     "text": [
      "Pytorch sensor from numpy array:  tensor([1, 2, 3], dtype=torch.int32)\n"
     ]
    }
   ],
   "source": [
    "print(\"Pytorch sensor from numpy array: \", tensor_from_numpy)"
   ]
  },
  {
   "cell_type": "code",
   "execution_count": 7,
   "id": "f9d1e0dd-b280-4e27-b1e7-a40c675215bf",
   "metadata": {},
   "outputs": [],
   "source": [
    "empty_tensor = torch.empty(3)"
   ]
  },
  {
   "cell_type": "code",
   "execution_count": 8,
   "id": "7ab3ec00-10ad-4007-ae2b-d41d42dd1ace",
   "metadata": {},
   "outputs": [
    {
     "name": "stdout",
     "output_type": "stream",
     "text": [
      "Empty tensor tensor([0., 0., 0.])\n"
     ]
    }
   ],
   "source": [
    "print(\"Empty tensor\", empty_tensor)"
   ]
  },
  {
   "cell_type": "code",
   "execution_count": 10,
   "id": "a8676f3f-70ea-4b17-b61d-32bce8adb1f0",
   "metadata": {},
   "outputs": [
    {
     "name": "stdout",
     "output_type": "stream",
     "text": [
      "tensor([[0., 0., 0.],\n",
      "        [0., 0., 0.]])\n"
     ]
    }
   ],
   "source": [
    "zero_tensor = torch.zeros(2,3)\n",
    "print(zero_tensor)"
   ]
  },
  {
   "cell_type": "code",
   "execution_count": 11,
   "id": "ef34ddce-c863-4536-a3ae-f084ab3dfd0d",
   "metadata": {},
   "outputs": [
    {
     "name": "stdout",
     "output_type": "stream",
     "text": [
      "tensor([[1., 1., 1.],\n",
      "        [1., 1., 1.]])\n"
     ]
    }
   ],
   "source": [
    "one_tensor = torch.ones(2,3)\n",
    "print(one_tensor)"
   ]
  },
  {
   "cell_type": "code",
   "execution_count": 13,
   "id": "1727c368-f1d5-41a5-bc40-cf216f7723d7",
   "metadata": {},
   "outputs": [],
   "source": [
    "random_tensor = torch.rand(3,3)"
   ]
  },
  {
   "cell_type": "code",
   "execution_count": 14,
   "id": "24cb0851-e091-4a64-b435-12d1f03b60f9",
   "metadata": {},
   "outputs": [
    {
     "name": "stdout",
     "output_type": "stream",
     "text": [
      "tensor([[0.9473, 0.6870, 0.8589],\n",
      "        [0.8128, 0.3119, 0.8751],\n",
      "        [0.4983, 0.9844, 0.1454]])\n"
     ]
    }
   ],
   "source": [
    "print(random_tensor)"
   ]
  },
  {
   "cell_type": "code",
   "execution_count": 15,
   "id": "915b53a8-9cf1-4891-b6a1-f658dd11634d",
   "metadata": {},
   "outputs": [],
   "source": [
    "arange_tensor = torch.arange(start=0,end=100, step=10)"
   ]
  },
  {
   "cell_type": "code",
   "execution_count": 16,
   "id": "12c18b94-b213-4292-a942-bbb81cad8a49",
   "metadata": {},
   "outputs": [
    {
     "name": "stdout",
     "output_type": "stream",
     "text": [
      "tensor([ 0, 10, 20, 30, 40, 50, 60, 70, 80, 90])\n"
     ]
    }
   ],
   "source": [
    "print(arange_tensor)"
   ]
  },
  {
   "cell_type": "code",
   "execution_count": 18,
   "id": "8807a98a-b693-4f4e-8a0f-a3c0e632a5e0",
   "metadata": {},
   "outputs": [
    {
     "data": {
      "text/plain": [
       "tensor(0.6870)"
      ]
     },
     "execution_count": 18,
     "metadata": {},
     "output_type": "execute_result"
    }
   ],
   "source": [
    "random_tensor[0,1]"
   ]
  },
  {
   "cell_type": "code",
   "execution_count": 19,
   "id": "559ded0c-6283-4229-9cba-785d713da137",
   "metadata": {},
   "outputs": [
    {
     "data": {
      "text/plain": [
       "tensor([0.8128, 0.3119, 0.8751])"
      ]
     },
     "execution_count": 19,
     "metadata": {},
     "output_type": "execute_result"
    }
   ],
   "source": [
    "random_tensor[1, :]"
   ]
  },
  {
   "cell_type": "code",
   "execution_count": 20,
   "id": "7224fb37-12f6-4562-b9c4-09fbe1b336ce",
   "metadata": {},
   "outputs": [],
   "source": [
    "reshape_tensor = torch.rand(5,4)"
   ]
  },
  {
   "cell_type": "code",
   "execution_count": 21,
   "id": "021bc1f5-4c1d-4831-8dc3-1561671248b2",
   "metadata": {},
   "outputs": [
    {
     "name": "stdout",
     "output_type": "stream",
     "text": [
      "tensor([[0.4930, 0.6670, 0.0968, 0.4668],\n",
      "        [0.5788, 0.2150, 0.8838, 0.6925],\n",
      "        [0.5907, 0.0948, 0.2102, 0.2874],\n",
      "        [0.4396, 0.0459, 0.3422, 0.4214],\n",
      "        [0.0205, 0.4575, 0.1493, 0.3906]])\n"
     ]
    }
   ],
   "source": [
    "print(reshape_tensor)"
   ]
  },
  {
   "cell_type": "code",
   "execution_count": 22,
   "id": "e2bfd8a6-2ea9-4172-9f69-0890b44bdf6c",
   "metadata": {},
   "outputs": [],
   "source": [
    "new_reshape_tensor = reshape_tensor.view(-1,2)"
   ]
  },
  {
   "cell_type": "code",
   "execution_count": 23,
   "id": "873843e3-eef0-4c03-85b2-885d3cfdd80c",
   "metadata": {},
   "outputs": [
    {
     "name": "stdout",
     "output_type": "stream",
     "text": [
      "tensor([[0.4930, 0.6670],\n",
      "        [0.0968, 0.4668],\n",
      "        [0.5788, 0.2150],\n",
      "        [0.8838, 0.6925],\n",
      "        [0.5907, 0.0948],\n",
      "        [0.2102, 0.2874],\n",
      "        [0.4396, 0.0459],\n",
      "        [0.3422, 0.4214],\n",
      "        [0.0205, 0.4575],\n",
      "        [0.1493, 0.3906]])\n"
     ]
    }
   ],
   "source": [
    "print(new_reshape_tensor)"
   ]
  },
  {
   "cell_type": "code",
   "execution_count": 25,
   "id": "ec82e334-e4a3-4d6a-9a01-32a1a7ee7312",
   "metadata": {},
   "outputs": [
    {
     "name": "stdout",
     "output_type": "stream",
     "text": [
      "tensor([3, 6, 9])\n",
      "tensor([3, 6, 9])\n",
      "tensor([1, 2, 3])\n"
     ]
    }
   ],
   "source": [
    "tensor_a = torch.tensor([1,2,3])\n",
    "tensor_b = torch.tensor([2,4,6])\n",
    "\n",
    "results_add_1 = torch.add(tensor_b,tensor_a)\n",
    "results_add_2 = torch.add(tensor_a,tensor_b)\n",
    "results_sub_1 = tensor_b - tensor_a\n",
    "\n",
    "print(results_add_1)\n",
    "print(results_add_2)\n",
    "print(results_sub_1)"
   ]
  },
  {
   "cell_type": "code",
   "execution_count": 26,
   "id": "43371b81-a001-4de5-8ab8-95448227f6c9",
   "metadata": {},
   "outputs": [
    {
     "data": {
      "text/plain": [
       "tensor([3, 6, 9])"
      ]
     },
     "execution_count": 26,
     "metadata": {},
     "output_type": "execute_result"
    }
   ],
   "source": [
    "tensor_b.add_(tensor_a)"
   ]
  },
  {
   "cell_type": "code",
   "execution_count": 27,
   "id": "24467bfb-8326-4fb1-8a2d-1a4a2214e38e",
   "metadata": {},
   "outputs": [
    {
     "data": {
      "text/plain": [
       "tensor([3, 6, 9])"
      ]
     },
     "execution_count": 27,
     "metadata": {},
     "output_type": "execute_result"
    }
   ],
   "source": [
    "tensor_b"
   ]
  },
  {
   "cell_type": "code",
   "execution_count": 28,
   "id": "17f8fb3a-78f0-4161-9c9c-9cf29e48706a",
   "metadata": {},
   "outputs": [],
   "source": [
    "matrix_a = torch.tensor([[1,2], [3,4]])\n",
    "matrix_b = torch.tensor([[5,6], [7,8]])"
   ]
  },
  {
   "cell_type": "code",
   "execution_count": 29,
   "id": "dd482861-dbe0-481c-bfd1-7ff321f6c0c4",
   "metadata": {},
   "outputs": [
    {
     "data": {
      "text/plain": [
       "tensor([[1, 2],\n",
       "        [3, 4]])"
      ]
     },
     "execution_count": 29,
     "metadata": {},
     "output_type": "execute_result"
    }
   ],
   "source": [
    "matrix_a"
   ]
  },
  {
   "cell_type": "code",
   "execution_count": 30,
   "id": "cc217673-e29d-405b-b4f2-5138e207167f",
   "metadata": {},
   "outputs": [
    {
     "data": {
      "text/plain": [
       "tensor([[5, 6],\n",
       "        [7, 8]])"
      ]
     },
     "execution_count": 30,
     "metadata": {},
     "output_type": "execute_result"
    }
   ],
   "source": [
    "matrix_b"
   ]
  },
  {
   "cell_type": "code",
   "execution_count": 31,
   "id": "91311a95-9f14-42ce-9dad-8a1fc0c45915",
   "metadata": {},
   "outputs": [],
   "source": [
    "results_multiply = torch.mm(matrix_a,matrix_b)"
   ]
  },
  {
   "cell_type": "code",
   "execution_count": 32,
   "id": "876d243e-c666-41c1-b744-13e2a5e3527d",
   "metadata": {},
   "outputs": [
    {
     "name": "stdout",
     "output_type": "stream",
     "text": [
      "tensor([[19, 22],\n",
      "        [43, 50]])\n"
     ]
    }
   ],
   "source": [
    "print(results_multiply)"
   ]
  },
  {
   "cell_type": "code",
   "execution_count": 33,
   "id": "1bd5d123-ce25-4b97-8dc5-302e71d1aa71",
   "metadata": {},
   "outputs": [],
   "source": [
    "results_multiply_2 = torch.mul(matrix_a,matrix_b)"
   ]
  },
  {
   "cell_type": "code",
   "execution_count": 34,
   "id": "101999a4-a5d8-4685-a8ea-ab9373ac38ff",
   "metadata": {},
   "outputs": [
    {
     "name": "stdout",
     "output_type": "stream",
     "text": [
      "tensor([[ 5, 12],\n",
      "        [21, 32]])\n"
     ]
    }
   ],
   "source": [
    "print(results_multiply_2)"
   ]
  },
  {
   "cell_type": "code",
   "execution_count": 35,
   "id": "f145064a-43cc-4cfb-92d6-100b7c4d4e6c",
   "metadata": {},
   "outputs": [
    {
     "data": {
      "text/plain": [
       "torch.float32"
      ]
     },
     "execution_count": 35,
     "metadata": {},
     "output_type": "execute_result"
    }
   ],
   "source": [
    "random_tensor.dtype"
   ]
  },
  {
   "cell_type": "code",
   "execution_count": 39,
   "id": "22cc06db-7970-4b9f-b51c-401021ec64fa",
   "metadata": {},
   "outputs": [],
   "source": [
    "tensor_int = torch.tensor([4,5,6], dtype=torch.int64)"
   ]
  },
  {
   "cell_type": "code",
   "execution_count": 40,
   "id": "b797f507-4b9c-43bb-9e88-aa5f6b72f4e5",
   "metadata": {},
   "outputs": [
    {
     "name": "stdout",
     "output_type": "stream",
     "text": [
      "tensor([4, 5, 6])\n"
     ]
    }
   ],
   "source": [
    "print(tensor_int)"
   ]
  },
  {
   "cell_type": "code",
   "execution_count": 41,
   "id": "a50fc72b-c9fb-4260-a404-2f4ea9e9c593",
   "metadata": {},
   "outputs": [
    {
     "name": "stdout",
     "output_type": "stream",
     "text": [
      "torch.int64\n"
     ]
    }
   ],
   "source": [
    "print(tensor_int.dtype)"
   ]
  },
  {
   "cell_type": "code",
   "execution_count": 42,
   "id": "779ff9e2-6b43-4ccb-af32-8de98ebfcfff",
   "metadata": {},
   "outputs": [
    {
     "data": {
      "text/plain": [
       "device(type='cpu')"
      ]
     },
     "execution_count": 42,
     "metadata": {},
     "output_type": "execute_result"
    }
   ],
   "source": [
    "tensor_int.device"
   ]
  },
  {
   "cell_type": "code",
   "execution_count": 43,
   "id": "7325d4e5-d7ff-4cf6-a836-af2402d8cc8f",
   "metadata": {},
   "outputs": [],
   "source": [
    "device = torch.device('cuda' if torch.cuda.is_available() else 'cpu')"
   ]
  },
  {
   "cell_type": "code",
   "execution_count": 45,
   "id": "cef27885-7688-424b-b835-7af3dbf0cd46",
   "metadata": {},
   "outputs": [
    {
     "data": {
      "text/plain": [
       "tensor([4, 5, 6])"
      ]
     },
     "execution_count": 45,
     "metadata": {},
     "output_type": "execute_result"
    }
   ],
   "source": [
    "tensor_int.to(device)"
   ]
  },
  {
   "cell_type": "code",
   "execution_count": 46,
   "id": "d70f3514-55a9-46ef-8aa6-d7e4b7bb703f",
   "metadata": {},
   "outputs": [
    {
     "data": {
      "text/plain": [
       "device(type='cpu')"
      ]
     },
     "execution_count": 46,
     "metadata": {},
     "output_type": "execute_result"
    }
   ],
   "source": [
    "tensor_int.device"
   ]
  },
  {
   "cell_type": "code",
   "execution_count": 47,
   "id": "f18800c5-d0f3-4fd6-9426-22318806d646",
   "metadata": {},
   "outputs": [
    {
     "data": {
      "text/plain": [
       "0"
      ]
     },
     "execution_count": 47,
     "metadata": {},
     "output_type": "execute_result"
    }
   ],
   "source": [
    "torch.cuda.device_count()"
   ]
  },
  {
   "cell_type": "code",
   "execution_count": 48,
   "id": "df5f51a7-6e7b-4bef-9972-5a9b93e87e70",
   "metadata": {},
   "outputs": [
    {
     "ename": "AssertionError",
     "evalue": "Torch not compiled with CUDA enabled",
     "output_type": "error",
     "traceback": [
      "\u001b[1;31m---------------------------------------------------------------------------\u001b[0m",
      "\u001b[1;31mAssertionError\u001b[0m                            Traceback (most recent call last)",
      "Cell \u001b[1;32mIn[48], line 1\u001b[0m\n\u001b[1;32m----> 1\u001b[0m tensor_new \u001b[38;5;241m=\u001b[39m \u001b[43mtorch\u001b[49m\u001b[38;5;241;43m.\u001b[39;49m\u001b[43mtensor\u001b[49m\u001b[43m(\u001b[49m\u001b[43m[\u001b[49m\u001b[38;5;241;43m51\u001b[39;49m\u001b[43m,\u001b[49m\u001b[38;5;241;43m50\u001b[39;49m\u001b[43m,\u001b[49m\u001b[38;5;241;43m46\u001b[39;49m\u001b[43m,\u001b[49m\u001b[38;5;241;43m2\u001b[39;49m\u001b[43m]\u001b[49m\u001b[43m,\u001b[49m\u001b[43m \u001b[49m\u001b[43mdtype\u001b[49m\u001b[38;5;241;43m=\u001b[39;49m\u001b[43mtorch\u001b[49m\u001b[38;5;241;43m.\u001b[39;49m\u001b[43mfloat32\u001b[49m\u001b[43m,\u001b[49m\u001b[43m \u001b[49m\u001b[43mdevice\u001b[49m\u001b[38;5;241;43m=\u001b[39;49m\u001b[38;5;124;43m'\u001b[39;49m\u001b[38;5;124;43mcuda\u001b[39;49m\u001b[38;5;124;43m'\u001b[39;49m\u001b[43m)\u001b[49m\n",
      "File \u001b[1;32m~\\AppData\\Local\\Programs\\Python\\Python311\\Lib\\site-packages\\torch\\cuda\\__init__.py:305\u001b[0m, in \u001b[0;36m_lazy_init\u001b[1;34m()\u001b[0m\n\u001b[0;32m    300\u001b[0m     \u001b[38;5;28;01mraise\u001b[39;00m \u001b[38;5;167;01mRuntimeError\u001b[39;00m(\n\u001b[0;32m    301\u001b[0m         \u001b[38;5;124m\"\u001b[39m\u001b[38;5;124mCannot re-initialize CUDA in forked subprocess. To use CUDA with \u001b[39m\u001b[38;5;124m\"\u001b[39m\n\u001b[0;32m    302\u001b[0m         \u001b[38;5;124m\"\u001b[39m\u001b[38;5;124mmultiprocessing, you must use the \u001b[39m\u001b[38;5;124m'\u001b[39m\u001b[38;5;124mspawn\u001b[39m\u001b[38;5;124m'\u001b[39m\u001b[38;5;124m start method\u001b[39m\u001b[38;5;124m\"\u001b[39m\n\u001b[0;32m    303\u001b[0m     )\n\u001b[0;32m    304\u001b[0m \u001b[38;5;28;01mif\u001b[39;00m \u001b[38;5;129;01mnot\u001b[39;00m \u001b[38;5;28mhasattr\u001b[39m(torch\u001b[38;5;241m.\u001b[39m_C, \u001b[38;5;124m\"\u001b[39m\u001b[38;5;124m_cuda_getDeviceCount\u001b[39m\u001b[38;5;124m\"\u001b[39m):\n\u001b[1;32m--> 305\u001b[0m     \u001b[38;5;28;01mraise\u001b[39;00m \u001b[38;5;167;01mAssertionError\u001b[39;00m(\u001b[38;5;124m\"\u001b[39m\u001b[38;5;124mTorch not compiled with CUDA enabled\u001b[39m\u001b[38;5;124m\"\u001b[39m)\n\u001b[0;32m    306\u001b[0m \u001b[38;5;28;01mif\u001b[39;00m _cudart \u001b[38;5;129;01mis\u001b[39;00m \u001b[38;5;28;01mNone\u001b[39;00m:\n\u001b[0;32m    307\u001b[0m     \u001b[38;5;28;01mraise\u001b[39;00m \u001b[38;5;167;01mAssertionError\u001b[39;00m(\n\u001b[0;32m    308\u001b[0m         \u001b[38;5;124m\"\u001b[39m\u001b[38;5;124mlibcudart functions unavailable. It looks like you have a broken build?\u001b[39m\u001b[38;5;124m\"\u001b[39m\n\u001b[0;32m    309\u001b[0m     )\n",
      "\u001b[1;31mAssertionError\u001b[0m: Torch not compiled with CUDA enabled"
     ]
    }
   ],
   "source": [
    "tensor_new = torch.tensor([51,50,46,2], dtype=torch.float32, device='cuda')"
   ]
  },
  {
   "cell_type": "code",
   "execution_count": 50,
   "id": "8b504bce-be96-4600-9859-11577bfd5a64",
   "metadata": {},
   "outputs": [
    {
     "name": "stdout",
     "output_type": "stream",
     "text": [
      "False\n"
     ]
    }
   ],
   "source": [
    "print(torch.cuda.is_available())  # Devuelve True si CUDA está disponible, de lo contrario False\n"
   ]
  },
  {
   "cell_type": "code",
   "execution_count": null,
   "id": "10bdb917-9936-425d-87c5-c6fdc6a96f7b",
   "metadata": {},
   "outputs": [],
   "source": []
  }
 ],
 "metadata": {
  "kernelspec": {
   "display_name": "Python 3 (ipykernel)",
   "language": "python",
   "name": "python3"
  },
  "language_info": {
   "codemirror_mode": {
    "name": "ipython",
    "version": 3
   },
   "file_extension": ".py",
   "mimetype": "text/x-python",
   "name": "python",
   "nbconvert_exporter": "python",
   "pygments_lexer": "ipython3",
   "version": "3.11.0"
  }
 },
 "nbformat": 4,
 "nbformat_minor": 5
}
