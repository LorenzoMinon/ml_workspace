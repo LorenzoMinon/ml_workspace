{
 "cells": [
  {
   "cell_type": "code",
   "execution_count": 1,
   "id": "b945744c-6183-4537-b90a-59287d195da9",
   "metadata": {},
   "outputs": [],
   "source": [
    "import pandas as pd"
   ]
  },
  {
   "cell_type": "code",
   "execution_count": 2,
   "id": "ab7ac76f-02ed-4960-a8e0-17e5ebb0fd56",
   "metadata": {},
   "outputs": [],
   "source": [
    "from sklearn.model_selection import train_test_split"
   ]
  },
  {
   "cell_type": "code",
   "execution_count": 8,
   "id": "39495363-4e1f-42ac-ab10-e63ca5a69506",
   "metadata": {},
   "outputs": [],
   "source": [
    "df = pd.read_csv('C:\\\\Users\\\\loren\\\\Desktop\\\\ML_Workspace\\\\datasets\\\\500hits.csv', encoding = 'latin-1')"
   ]
  },
  {
   "cell_type": "code",
   "execution_count": 9,
   "id": "26a810c1-8ed3-4654-a71f-83dd949eb8f0",
   "metadata": {},
   "outputs": [
    {
     "data": {
      "text/html": [
       "<div>\n",
       "<style scoped>\n",
       "    .dataframe tbody tr th:only-of-type {\n",
       "        vertical-align: middle;\n",
       "    }\n",
       "\n",
       "    .dataframe tbody tr th {\n",
       "        vertical-align: top;\n",
       "    }\n",
       "\n",
       "    .dataframe thead th {\n",
       "        text-align: right;\n",
       "    }\n",
       "</style>\n",
       "<table border=\"1\" class=\"dataframe\">\n",
       "  <thead>\n",
       "    <tr style=\"text-align: right;\">\n",
       "      <th></th>\n",
       "      <th>PLAYER</th>\n",
       "      <th>YRS</th>\n",
       "      <th>G</th>\n",
       "      <th>AB</th>\n",
       "      <th>R</th>\n",
       "      <th>H</th>\n",
       "      <th>2B</th>\n",
       "      <th>3B</th>\n",
       "      <th>HR</th>\n",
       "      <th>RBI</th>\n",
       "      <th>BB</th>\n",
       "      <th>SO</th>\n",
       "      <th>SB</th>\n",
       "      <th>CS</th>\n",
       "      <th>BA</th>\n",
       "      <th>HOF</th>\n",
       "    </tr>\n",
       "  </thead>\n",
       "  <tbody>\n",
       "    <tr>\n",
       "      <th>0</th>\n",
       "      <td>Ty Cobb</td>\n",
       "      <td>24</td>\n",
       "      <td>3035</td>\n",
       "      <td>11434</td>\n",
       "      <td>2246</td>\n",
       "      <td>4189</td>\n",
       "      <td>724</td>\n",
       "      <td>295</td>\n",
       "      <td>117</td>\n",
       "      <td>726</td>\n",
       "      <td>1249</td>\n",
       "      <td>357</td>\n",
       "      <td>892</td>\n",
       "      <td>178</td>\n",
       "      <td>0.366</td>\n",
       "      <td>1</td>\n",
       "    </tr>\n",
       "    <tr>\n",
       "      <th>1</th>\n",
       "      <td>Stan Musial</td>\n",
       "      <td>22</td>\n",
       "      <td>3026</td>\n",
       "      <td>10972</td>\n",
       "      <td>1949</td>\n",
       "      <td>3630</td>\n",
       "      <td>725</td>\n",
       "      <td>177</td>\n",
       "      <td>475</td>\n",
       "      <td>1951</td>\n",
       "      <td>1599</td>\n",
       "      <td>696</td>\n",
       "      <td>78</td>\n",
       "      <td>31</td>\n",
       "      <td>0.331</td>\n",
       "      <td>1</td>\n",
       "    </tr>\n",
       "    <tr>\n",
       "      <th>2</th>\n",
       "      <td>Tris Speaker</td>\n",
       "      <td>22</td>\n",
       "      <td>2789</td>\n",
       "      <td>10195</td>\n",
       "      <td>1882</td>\n",
       "      <td>3514</td>\n",
       "      <td>792</td>\n",
       "      <td>222</td>\n",
       "      <td>117</td>\n",
       "      <td>724</td>\n",
       "      <td>1381</td>\n",
       "      <td>220</td>\n",
       "      <td>432</td>\n",
       "      <td>129</td>\n",
       "      <td>0.345</td>\n",
       "      <td>1</td>\n",
       "    </tr>\n",
       "    <tr>\n",
       "      <th>3</th>\n",
       "      <td>Derek Jeter</td>\n",
       "      <td>20</td>\n",
       "      <td>2747</td>\n",
       "      <td>11195</td>\n",
       "      <td>1923</td>\n",
       "      <td>3465</td>\n",
       "      <td>544</td>\n",
       "      <td>66</td>\n",
       "      <td>260</td>\n",
       "      <td>1311</td>\n",
       "      <td>1082</td>\n",
       "      <td>1840</td>\n",
       "      <td>358</td>\n",
       "      <td>97</td>\n",
       "      <td>0.310</td>\n",
       "      <td>1</td>\n",
       "    </tr>\n",
       "    <tr>\n",
       "      <th>4</th>\n",
       "      <td>Honus Wagner</td>\n",
       "      <td>21</td>\n",
       "      <td>2792</td>\n",
       "      <td>10430</td>\n",
       "      <td>1736</td>\n",
       "      <td>3430</td>\n",
       "      <td>640</td>\n",
       "      <td>252</td>\n",
       "      <td>101</td>\n",
       "      <td>0</td>\n",
       "      <td>963</td>\n",
       "      <td>327</td>\n",
       "      <td>722</td>\n",
       "      <td>15</td>\n",
       "      <td>0.329</td>\n",
       "      <td>1</td>\n",
       "    </tr>\n",
       "  </tbody>\n",
       "</table>\n",
       "</div>"
      ],
      "text/plain": [
       "         PLAYER  YRS     G     AB     R     H   2B   3B   HR   RBI    BB  \\\n",
       "0       Ty Cobb   24  3035  11434  2246  4189  724  295  117   726  1249   \n",
       "1   Stan Musial   22  3026  10972  1949  3630  725  177  475  1951  1599   \n",
       "2  Tris Speaker   22  2789  10195  1882  3514  792  222  117   724  1381   \n",
       "3   Derek Jeter   20  2747  11195  1923  3465  544   66  260  1311  1082   \n",
       "4  Honus Wagner   21  2792  10430  1736  3430  640  252  101     0   963   \n",
       "\n",
       "     SO   SB   CS     BA  HOF  \n",
       "0   357  892  178  0.366    1  \n",
       "1   696   78   31  0.331    1  \n",
       "2   220  432  129  0.345    1  \n",
       "3  1840  358   97  0.310    1  \n",
       "4   327  722   15  0.329    1  "
      ]
     },
     "execution_count": 9,
     "metadata": {},
     "output_type": "execute_result"
    }
   ],
   "source": [
    "df.head()"
   ]
  },
  {
   "cell_type": "code",
   "execution_count": 10,
   "id": "8b346558-d92a-4463-a258-71e30a90902b",
   "metadata": {},
   "outputs": [],
   "source": [
    "#Dropear players y hall of fame.\n"
   ]
  },
  {
   "cell_type": "code",
   "execution_count": 12,
   "id": "fc157c48-314a-44d5-8919-63c058964a7f",
   "metadata": {},
   "outputs": [],
   "source": [
    "X = df.drop(columns=['PLAYER','HOF'])"
   ]
  },
  {
   "cell_type": "code",
   "execution_count": 13,
   "id": "8d6b0a9c-dcc5-4b95-be5e-f6946f2b5a2b",
   "metadata": {},
   "outputs": [],
   "source": [
    "y = df['HOF']"
   ]
  },
  {
   "cell_type": "code",
   "execution_count": 14,
   "id": "4cf892c3-2db0-409a-95ea-35384a109479",
   "metadata": {},
   "outputs": [
    {
     "ename": "NameError",
     "evalue": "name 'x' is not defined",
     "output_type": "error",
     "traceback": [
      "\u001b[1;31m---------------------------------------------------------------------------\u001b[0m",
      "\u001b[1;31mNameError\u001b[0m                                 Traceback (most recent call last)",
      "Cell \u001b[1;32mIn[14], line 1\u001b[0m\n\u001b[1;32m----> 1\u001b[0m \u001b[43mx\u001b[49m\u001b[38;5;241m.\u001b[39mhead()\n",
      "\u001b[1;31mNameError\u001b[0m: name 'x' is not defined"
     ]
    }
   ],
   "source": [
    "x.head()"
   ]
  },
  {
   "cell_type": "code",
   "execution_count": 15,
   "id": "42d275c2-9e11-43c6-8835-424c87cc2b50",
   "metadata": {},
   "outputs": [
    {
     "ename": "AttributeError",
     "evalue": "'DataFrame' object has no attribute 'HEAD'",
     "output_type": "error",
     "traceback": [
      "\u001b[1;31m---------------------------------------------------------------------------\u001b[0m",
      "\u001b[1;31mAttributeError\u001b[0m                            Traceback (most recent call last)",
      "\u001b[1;32m~\\AppData\\Local\\Temp\\ipykernel_29148\\1078878947.py\u001b[0m in \u001b[0;36m?\u001b[1;34m()\u001b[0m\n\u001b[1;32m----> 1\u001b[1;33m \u001b[0mX\u001b[0m\u001b[1;33m.\u001b[0m\u001b[0mHEAD\u001b[0m\u001b[1;33m(\u001b[0m\u001b[1;33m)\u001b[0m\u001b[1;33m\u001b[0m\u001b[1;33m\u001b[0m\u001b[0m\n\u001b[0m",
      "\u001b[1;32m~\\AppData\\Local\\Programs\\Python\\Python311\\Lib\\site-packages\\pandas\\core\\generic.py\u001b[0m in \u001b[0;36m?\u001b[1;34m(self, name)\u001b[0m\n\u001b[0;32m   6295\u001b[0m             \u001b[1;32mand\u001b[0m \u001b[0mname\u001b[0m \u001b[1;32mnot\u001b[0m \u001b[1;32min\u001b[0m \u001b[0mself\u001b[0m\u001b[1;33m.\u001b[0m\u001b[0m_accessors\u001b[0m\u001b[1;33m\u001b[0m\u001b[1;33m\u001b[0m\u001b[0m\n\u001b[0;32m   6296\u001b[0m             \u001b[1;32mand\u001b[0m \u001b[0mself\u001b[0m\u001b[1;33m.\u001b[0m\u001b[0m_info_axis\u001b[0m\u001b[1;33m.\u001b[0m\u001b[0m_can_hold_identifiers_and_holds_name\u001b[0m\u001b[1;33m(\u001b[0m\u001b[0mname\u001b[0m\u001b[1;33m)\u001b[0m\u001b[1;33m\u001b[0m\u001b[1;33m\u001b[0m\u001b[0m\n\u001b[0;32m   6297\u001b[0m         ):\n\u001b[0;32m   6298\u001b[0m             \u001b[1;32mreturn\u001b[0m \u001b[0mself\u001b[0m\u001b[1;33m[\u001b[0m\u001b[0mname\u001b[0m\u001b[1;33m]\u001b[0m\u001b[1;33m\u001b[0m\u001b[1;33m\u001b[0m\u001b[0m\n\u001b[1;32m-> 6299\u001b[1;33m         \u001b[1;32mreturn\u001b[0m \u001b[0mobject\u001b[0m\u001b[1;33m.\u001b[0m\u001b[0m__getattribute__\u001b[0m\u001b[1;33m(\u001b[0m\u001b[0mself\u001b[0m\u001b[1;33m,\u001b[0m \u001b[0mname\u001b[0m\u001b[1;33m)\u001b[0m\u001b[1;33m\u001b[0m\u001b[1;33m\u001b[0m\u001b[0m\n\u001b[0m",
      "\u001b[1;31mAttributeError\u001b[0m: 'DataFrame' object has no attribute 'HEAD'"
     ]
    }
   ],
   "source": [
    "X.HEAD()"
   ]
  },
  {
   "cell_type": "code",
   "execution_count": 16,
   "id": "c14552a8-b6b9-4c17-905b-647add2167c9",
   "metadata": {},
   "outputs": [
    {
     "data": {
      "text/html": [
       "<div>\n",
       "<style scoped>\n",
       "    .dataframe tbody tr th:only-of-type {\n",
       "        vertical-align: middle;\n",
       "    }\n",
       "\n",
       "    .dataframe tbody tr th {\n",
       "        vertical-align: top;\n",
       "    }\n",
       "\n",
       "    .dataframe thead th {\n",
       "        text-align: right;\n",
       "    }\n",
       "</style>\n",
       "<table border=\"1\" class=\"dataframe\">\n",
       "  <thead>\n",
       "    <tr style=\"text-align: right;\">\n",
       "      <th></th>\n",
       "      <th>YRS</th>\n",
       "      <th>G</th>\n",
       "      <th>AB</th>\n",
       "      <th>R</th>\n",
       "      <th>H</th>\n",
       "      <th>2B</th>\n",
       "      <th>3B</th>\n",
       "      <th>HR</th>\n",
       "      <th>RBI</th>\n",
       "      <th>BB</th>\n",
       "      <th>SO</th>\n",
       "      <th>SB</th>\n",
       "      <th>CS</th>\n",
       "      <th>BA</th>\n",
       "    </tr>\n",
       "  </thead>\n",
       "  <tbody>\n",
       "    <tr>\n",
       "      <th>0</th>\n",
       "      <td>24</td>\n",
       "      <td>3035</td>\n",
       "      <td>11434</td>\n",
       "      <td>2246</td>\n",
       "      <td>4189</td>\n",
       "      <td>724</td>\n",
       "      <td>295</td>\n",
       "      <td>117</td>\n",
       "      <td>726</td>\n",
       "      <td>1249</td>\n",
       "      <td>357</td>\n",
       "      <td>892</td>\n",
       "      <td>178</td>\n",
       "      <td>0.366</td>\n",
       "    </tr>\n",
       "    <tr>\n",
       "      <th>1</th>\n",
       "      <td>22</td>\n",
       "      <td>3026</td>\n",
       "      <td>10972</td>\n",
       "      <td>1949</td>\n",
       "      <td>3630</td>\n",
       "      <td>725</td>\n",
       "      <td>177</td>\n",
       "      <td>475</td>\n",
       "      <td>1951</td>\n",
       "      <td>1599</td>\n",
       "      <td>696</td>\n",
       "      <td>78</td>\n",
       "      <td>31</td>\n",
       "      <td>0.331</td>\n",
       "    </tr>\n",
       "    <tr>\n",
       "      <th>2</th>\n",
       "      <td>22</td>\n",
       "      <td>2789</td>\n",
       "      <td>10195</td>\n",
       "      <td>1882</td>\n",
       "      <td>3514</td>\n",
       "      <td>792</td>\n",
       "      <td>222</td>\n",
       "      <td>117</td>\n",
       "      <td>724</td>\n",
       "      <td>1381</td>\n",
       "      <td>220</td>\n",
       "      <td>432</td>\n",
       "      <td>129</td>\n",
       "      <td>0.345</td>\n",
       "    </tr>\n",
       "    <tr>\n",
       "      <th>3</th>\n",
       "      <td>20</td>\n",
       "      <td>2747</td>\n",
       "      <td>11195</td>\n",
       "      <td>1923</td>\n",
       "      <td>3465</td>\n",
       "      <td>544</td>\n",
       "      <td>66</td>\n",
       "      <td>260</td>\n",
       "      <td>1311</td>\n",
       "      <td>1082</td>\n",
       "      <td>1840</td>\n",
       "      <td>358</td>\n",
       "      <td>97</td>\n",
       "      <td>0.310</td>\n",
       "    </tr>\n",
       "    <tr>\n",
       "      <th>4</th>\n",
       "      <td>21</td>\n",
       "      <td>2792</td>\n",
       "      <td>10430</td>\n",
       "      <td>1736</td>\n",
       "      <td>3430</td>\n",
       "      <td>640</td>\n",
       "      <td>252</td>\n",
       "      <td>101</td>\n",
       "      <td>0</td>\n",
       "      <td>963</td>\n",
       "      <td>327</td>\n",
       "      <td>722</td>\n",
       "      <td>15</td>\n",
       "      <td>0.329</td>\n",
       "    </tr>\n",
       "  </tbody>\n",
       "</table>\n",
       "</div>"
      ],
      "text/plain": [
       "   YRS     G     AB     R     H   2B   3B   HR   RBI    BB    SO   SB   CS  \\\n",
       "0   24  3035  11434  2246  4189  724  295  117   726  1249   357  892  178   \n",
       "1   22  3026  10972  1949  3630  725  177  475  1951  1599   696   78   31   \n",
       "2   22  2789  10195  1882  3514  792  222  117   724  1381   220  432  129   \n",
       "3   20  2747  11195  1923  3465  544   66  260  1311  1082  1840  358   97   \n",
       "4   21  2792  10430  1736  3430  640  252  101     0   963   327  722   15   \n",
       "\n",
       "      BA  \n",
       "0  0.366  \n",
       "1  0.331  \n",
       "2  0.345  \n",
       "3  0.310  \n",
       "4  0.329  "
      ]
     },
     "execution_count": 16,
     "metadata": {},
     "output_type": "execute_result"
    }
   ],
   "source": [
    "X.head()"
   ]
  },
  {
   "cell_type": "code",
   "execution_count": 17,
   "id": "72ab364e-dbf4-491a-a52b-354a361e76a1",
   "metadata": {},
   "outputs": [
    {
     "data": {
      "text/plain": [
       "0    1\n",
       "1    1\n",
       "2    1\n",
       "3    1\n",
       "4    1\n",
       "Name: HOF, dtype: int64"
      ]
     },
     "execution_count": 17,
     "metadata": {},
     "output_type": "execute_result"
    }
   ],
   "source": [
    "y.head()"
   ]
  },
  {
   "cell_type": "code",
   "execution_count": 18,
   "id": "4a28b36b-d66e-4c40-8376-bffc9bb696b3",
   "metadata": {},
   "outputs": [
    {
     "data": {
      "text/plain": [
       "((465, 14), (465,))"
      ]
     },
     "execution_count": 18,
     "metadata": {},
     "output_type": "execute_result"
    }
   ],
   "source": [
    "X.shape, y.shape"
   ]
  },
  {
   "cell_type": "code",
   "execution_count": 19,
   "id": "7185f16d-b0b8-4470-ad39-c2ce7037433a",
   "metadata": {},
   "outputs": [],
   "source": [
    "##Train test!"
   ]
  },
  {
   "cell_type": "code",
   "execution_count": 20,
   "id": "edf4084e-0023-4b76-afc3-33641734626c",
   "metadata": {},
   "outputs": [],
   "source": [
    "X_train, X_Test, y_train, y_test = train_test_split(X,y, random_state=11)"
   ]
  },
  {
   "cell_type": "code",
   "execution_count": null,
   "id": "60e9082a-0ff2-4f8d-8c60-1c3ddfb5cf82",
   "metadata": {},
   "outputs": [],
   "source": []
  }
 ],
 "metadata": {
  "kernelspec": {
   "display_name": "Python 3 (ipykernel)",
   "language": "python",
   "name": "python3"
  },
  "language_info": {
   "codemirror_mode": {
    "name": "ipython",
    "version": 3
   },
   "file_extension": ".py",
   "mimetype": "text/x-python",
   "name": "python",
   "nbconvert_exporter": "python",
   "pygments_lexer": "ipython3",
   "version": "3.11.0"
  }
 },
 "nbformat": 4,
 "nbformat_minor": 5
}
